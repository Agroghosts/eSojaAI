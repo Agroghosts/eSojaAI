{
 "nbformat": 4,
 "nbformat_minor": 0,
 "metadata": {
  "colab": {
   "provenance": [],
   "authorship_tag": "ABX9TyNkpy/n1gfzclttjh4CJtRA"
  },
  "kernelspec": {
   "name": "python3",
   "display_name": "Python 3"
  },
  "language_info": {
   "name": "python"
  },
  "accelerator": "GPU"
 },
 "cells": [
  {
   "cell_type": "markdown",
   "source": [
    "Dê ao google Colab a autorização para acessar seu google drive a partir do comando abaixo:"
   ],
   "metadata": {
    "id": "KL0lnv70-Zai"
   }
  },
  {
   "cell_type": "code",
   "execution_count": null,
   "metadata": {
    "id": "gW4_bqMu76nP"
   },
   "outputs": [],
   "source": [
    "!python -m pip install pyyaml==5.1\n",
    "\n",
    "!python -m pip install 'git+https://github.com/facebookresearch/detectron2.git'\n",
    "\n",
    "# exit(0)  # After installation, you may need to \"restart runtime\" in Colab. This line can also restart runtime"
   ]
  },
  {
   "cell_type": "code",
   "source": [
    "import torch, detectron2\n",
    "!nvcc --version\n",
    "TORCH_VERSION = \".\".join(torch.__version__.split(\".\")[:2])\n",
    "CUDA_VERSION = torch.__version__.split(\"+\")[-1]\n",
    "print(\"torch: \", TORCH_VERSION, \"; cuda: \", CUDA_VERSION)\n",
    "print(\"detectron2:\", detectron2.__version__)"
   ],
   "metadata": {
    "id": "Px-FTMBwauSg",
    "colab": {
     "base_uri": "https://localhost:8080/"
    },
    "executionInfo": {
     "status": "ok",
     "timestamp": 1665353931280,
     "user_tz": 180,
     "elapsed": 274,
     "user": {
      "displayName": "Agostinho Agro",
      "userId": "13368935518428752840"
     }
    },
    "outputId": "10bc279b-68ac-449f-b0db-a87c77a2cf2c",
    "pycharm": {
     "is_executing": true
    }
   },
   "execution_count": null,
   "outputs": []
  },
  {
   "cell_type": "code",
   "source": [
    "import detectron2\n",
    "from detectron2.utils.logger import setup_logger\n",
    "setup_logger()\n",
    "\n",
    "import numpy as np\n",
    "import os, json, cv2, random\n",
    "from google.colab.patches import cv2_imshow\n",
    "\n",
    "from detectron2 import model_zoo\n",
    "from detectron2.engine import DefaultPredictor\n",
    "from detectron2.config import get_cfg\n",
    "from detectron2.utils.visualizer import Visualizer\n",
    "from detectron2.data import MetadataCatalog, DatasetCatalog"
   ],
   "metadata": {
    "id": "w1iiYm9seAJ1"
   },
   "execution_count": null,
   "outputs": []
  },
  {
   "cell_type": "code",
   "source": [
    "from detectron2.structures import BoxMode\n",
    "from detectron2.data import transforms as T\n",
    "from google.colab import drive\n",
    "drive.mount('/content/drive')\n",
    "\n",
    "\n",
    "def get_pod_dicts(img_dir):\n",
    "    img_dir = os.path.join('/content/drive/MyDrive/' + img_dir)\n",
    "\n",
    "    json_file = os.path.join(img_dir, \"via_region_data.json\")\n",
    "    with open(json_file) as f:\n",
    "        imgs_anns = json.load(f)\n",
    "\n",
    "    dataset_dicts = []\n",
    "    for idx, v in enumerate(imgs_anns.values()):\n",
    "        record = {}\n",
    "\n",
    "        augs = T.AugmentationList([\n",
    "            T.RandomBrightness(0.9, 1.1),\n",
    "            T.RandomFlip(prob=0.5),\n",
    "            T.RandomCrop(\"absolute\", (640, 640))\n",
    "        ])\n",
    "        \n",
    "        filename = os.path.join(img_dir, v[\"filename\"])\n",
    "\n",
    "        input = T.AugInput(cv2.imread(filename), boxes=boxes, sem_seg=sem_seg)\n",
    "        transform = augs(input)\n",
    "\n",
    "        height, width = cv2.imread(filename).shape[:2]\n",
    "        \n",
    "        record[\"file_name\"] = filename\n",
    "        record[\"image_id\"] = idx\n",
    "        record[\"height\"] = height\n",
    "        record[\"width\"] = width\n",
    "      \n",
    "        annos = v[\"regions\"]\n",
    "        objs = []\n",
    "        for anno in annos:\n",
    "            assert not anno[\"region_attributes\"]\n",
    "            anno = anno[\"shape_attributes\"]\n",
    "            px = anno[\"all_points_x\"]\n",
    "            py = anno[\"all_points_y\"]\n",
    "            poly = [(x + 0.5, y + 0.5) for x, y in zip(px, py)]\n",
    "            poly = [p for x in poly for p in x]\n",
    "\n",
    "            obj = {\n",
    "                \"bbox\": [np.min(px), np.min(py), np.max(px), np.max(py)],\n",
    "                \"bbox_mode\": BoxMode.XYXY_ABS,\n",
    "                \"segmentation\": [poly],\n",
    "                \"category_id\": 0,\n",
    "            }\n",
    "            objs.append(obj)\n",
    "        record[\"annotations\"] = objs\n",
    "        dataset_dicts.append(record)\n",
    "    return dataset_dicts\n",
    "\n",
    "#Comment the following lines if not running for the first time\n",
    "for d in [\"train\", \"val\"]:\n",
    "    DatasetCatalog.register(\"pod_\" + d, lambda d=d: get_pod_dicts(\"pod/\" + d))\n",
    "    MetadataCatalog.get(\"pod_\" + d).set(thing_classes=[\"pod\"])\n",
    "pod_metadata = MetadataCatalog.get(\"pod_train\")"
   ],
   "metadata": {
    "colab": {
     "base_uri": "https://localhost:8080/"
    },
    "id": "YoQn6gfGcxuW",
    "executionInfo": {
     "status": "ok",
     "timestamp": 1665353958164,
     "user_tz": 180,
     "elapsed": 16516,
     "user": {
      "displayName": "Agostinho Agro",
      "userId": "13368935518428752840"
     }
    },
    "outputId": "a0cd4af4-db5b-4ea3-d76e-e7d803432374",
    "pycharm": {
     "is_executing": true
    }
   },
   "execution_count": null,
   "outputs": []
  },
  {
   "cell_type": "code",
   "source": [
    "from detectron2.engine import DefaultTrainer\n",
    "\n",
    "cfg = get_cfg()\n",
    "cfg.merge_from_file(model_zoo.get_config_file(\"COCO-InstanceSegmentation/mask_rcnn_R_50_FPN_3x.yaml\"))\n",
    "cfg.DATASETS.TRAIN = (\"pod_train\",)\n",
    "cfg.DATASETS.TEST = ()\n",
    "cfg.DATALOADER.NUM_WORKERS = 2\n",
    "cfg.MODEL.WEIGHTS = model_zoo.get_checkpoint_url(\"COCO-InstanceSegmentation/mask_rcnn_R_50_FPN_3x.yaml\")  # Let training initialize from model zoo\n",
    "cfg.SOLVER.IMS_PER_BATCH = 2 \n",
    "cfg.SOLVER.BASE_LR = 0.00025  # pick a good LR\n",
    "cfg.SOLVER.MAX_ITER = 300    # 300 iterations seems good enough for this toy dataset; you will need to train longer for a practical dataset\n",
    "cfg.SOLVER.STEPS = []        # do not decay learning rate\n",
    "cfg.MODEL.ROI_HEADS.BATCH_SIZE_PER_IMAGE = 128   # The \"RoIHead batch size\". 128 is faster, and good enough for this toy dataset (default: 512)\n",
    "cfg.MODEL.ROI_HEADS.NUM_CLASSES = 1  # only has one class (pod).\n",
    "if(!os.path.join(\"/content/drive/MyDrive/model_final.pth\"))):\n",
    "    os.makedirs(cfg.OUTPUT_DIR, exist_ok=True)\n",
    "    trainer = DefaultTrainer(cfg)\n",
    "    trainer.resume_or_load(resume=False)\n",
    "    trainer.train()"
   ],
   "metadata": {
    "id": "lDry1SbCifHK"
   },
   "execution_count": null,
   "outputs": []
  },
  {
   "cell_type": "code",
   "source": [
    "# Inference should use the config with parameters that are used in training\n",
    "# cfg now already contains everything we've set previously. We changed it a little bit for inference:\n",
    "if(os.path.join(\"/content/drive/MyDrive/model_final.pth\"))):\n",
    "    cfg.MODEL.WEIGHTS = \"/content/drive/MyDrive/model_final.pth\"\n",
    "else:\n",
    "    cfg.MODEL.WEIGHTS = os.path.join(cfg.OUTPUT_DIR, \"model_final.pth\")  # path to the model we just trained\n",
    "    cfg.MODEL.ROI_HEADS.SCORE_THRESH_TEST = 0.7   # set a custom testing threshold\n",
    "    predictor = DefaultPredictor(cfg)"
   ],
   "metadata": {
    "id": "JhA-yRd6pAHx"
   },
   "execution_count": null,
   "outputs": []
  },
  {
   "cell_type": "code",
   "source": [
    "from detectron2.utils.visualizer import ColorMode\n",
    "dataset_dicts = get_pod_dicts(\"pod/val\")\n",
    "for d in random.sample(dataset_dicts, 3):    \n",
    "    im = cv2.imread(d[\"file_name\"])\n",
    "    outputs = predictor(im)\n",
    "    v = Visualizer(im[:, :, ::-1],\n",
    "                   metadata=pod_metadata, \n",
    "                   scale=0.5, \n",
    "                   instance_mode=ColorMode.IMAGE_BW\n",
    "    )\n",
    "    out = v.draw_instance_predictions(outputs[\"instances\"].to(\"cpu\"))\n",
    "    cv2_imshow(out.get_image()[:, :, ::-1])"
   ],
   "metadata": {
    "colab": {
     "base_uri": "https://localhost:8080/",
     "height": 931
    },
    "id": "_7sAc24zpOmN",
    "executionInfo": {
     "status": "ok",
     "timestamp": 1665354427461,
     "user_tz": 180,
     "elapsed": 1649,
     "user": {
      "displayName": "Agostinho Agro",
      "userId": "13368935518428752840"
     }
    },
    "outputId": "5f185ee7-e442-45a5-c943-29758a2301ea",
    "pycharm": {
     "is_executing": true
    }
   },
   "execution_count": null,
   "outputs": []
  },
  {
   "cell_type": "code",
   "source": [
    "from detectron2.evaluation import COCOEvaluator, inference_on_dataset\n",
    "from detectron2.data import build_detection_test_loader\n",
    "evaluator = COCOEvaluator(\"pod_val\", output_dir=\"./output\")\n",
    "val_loader = build_detection_test_loader(cfg, \"pod_val\")\n",
    "print(inference_on_dataset(predictor.model, val_loader, evaluator))\n",
    "# another equivalent way to evaluate the model is to use `trainer.test`"
   ],
   "metadata": {
    "id": "JdqVc54TpsXn"
   },
   "execution_count": null,
   "outputs": []
  },
  {
   "cell_type": "code",
   "execution_count": null,
   "outputs": [],
   "source": [
    "from numpy.ma.core import mean\n",
    "import math\n",
    "import torch\n",
    "soybean_csv = pd.read_excel('/content/drive/MyDrive/SOJA_v00.xlsx', sheet_name='SOJA_v00')\n",
    "values = soybean_csv.values.tolist()\n",
    "podPerSoy = {}\n",
    "\n",
    "for line in values:\n",
    "  seedsInSoy = 0\n",
    "  podPerSoy[line[2]] = line[4]\n",
    "  im = cv2.imread(f\"/content/drive/MyDrive/images/{line[2]}.jpg\")\n",
    "\n",
    "  outputs = predictor(im)\n",
    "  v = Visualizer(im[:, :, ::-1],\n",
    "    metadata=pod_metadata,\n",
    "    scale=1,\n",
    "  )\n",
    "  masks = outputs['instances'].pred_masks\n",
    "\n",
    "  t = (torch.sum(torch.flatten(masks, start_dim=1),dim=1))\n",
    "\n",
    "  for seed in (t.detach().cpu().numpy()):\n",
    "    if seed < 50:\n",
    "      seedsInSoy = seedsInSoy + 1\n",
    "    if seed > 50 and seed < 100:\n",
    "      seedsInSoy = seedsInSoy + 2\n",
    "    if seed > 100 and seed < 150:\n",
    "      seedsInSoy = seedsInSoy + 3\n",
    "    if seed > 150:\n",
    "      seedsInSoy = seedsInSoy + 4\n",
    "  print(seedsInSoy)\n",
    "\n",
    "  out = v.draw_instance_predictions(outputs[\"instances\"].to(\"cpu\"))\n",
    "  print(line[5])\n",
    "  print(line[2])\n",
    "  if(math.isnan(podPerSoy.get(line[2]))):\n",
    "    break\n"
   ],
   "metadata": {
    "collapsed": false
   }
  }
 ]
}
